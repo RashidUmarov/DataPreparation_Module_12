{
 "cells": [
  {
   "cell_type": "code",
   "execution_count": 1,
   "metadata": {
    "id": "z_BPTnNmhXMT"
   },
   "outputs": [],
   "source": [
    "import pandas as pd"
   ]
  },
  {
   "cell_type": "code",
   "execution_count": 2,
   "metadata": {
    "colab": {
     "base_uri": "https://localhost:8080/",
     "height": 206
    },
    "id": "K-WHRlNFj42C",
    "outputId": "360be7c5-3b59-44d0-c403-e2ba111d9b14"
   },
   "outputs": [
    {
     "data": {
      "text/html": [
       "<div>\n",
       "<style scoped>\n",
       "    .dataframe tbody tr th:only-of-type {\n",
       "        vertical-align: middle;\n",
       "    }\n",
       "\n",
       "    .dataframe tbody tr th {\n",
       "        vertical-align: top;\n",
       "    }\n",
       "\n",
       "    .dataframe thead th {\n",
       "        text-align: right;\n",
       "    }\n",
       "</style>\n",
       "<table border=\"1\" class=\"dataframe\">\n",
       "  <thead>\n",
       "    <tr style=\"text-align: right;\">\n",
       "      <th></th>\n",
       "      <th>model</th>\n",
       "      <th>year</th>\n",
       "      <th>price</th>\n",
       "      <th>transmission</th>\n",
       "      <th>mileage</th>\n",
       "      <th>fuelType</th>\n",
       "      <th>tax</th>\n",
       "      <th>mpg</th>\n",
       "      <th>engineSize</th>\n",
       "      <th>price_year_outlier</th>\n",
       "    </tr>\n",
       "  </thead>\n",
       "  <tbody>\n",
       "    <tr>\n",
       "      <th>0</th>\n",
       "      <td>GLC Class</td>\n",
       "      <td>2019.000000</td>\n",
       "      <td>45299</td>\n",
       "      <td>Semi-Auto</td>\n",
       "      <td>2792.0</td>\n",
       "      <td>Diesel</td>\n",
       "      <td>145.0</td>\n",
       "      <td>40.4</td>\n",
       "      <td>2.0</td>\n",
       "      <td>1</td>\n",
       "    </tr>\n",
       "    <tr>\n",
       "      <th>1</th>\n",
       "      <td>unknown</td>\n",
       "      <td>2018.000000</td>\n",
       "      <td>19099</td>\n",
       "      <td>Semi-Auto</td>\n",
       "      <td>12321.0</td>\n",
       "      <td>Petrol</td>\n",
       "      <td>145.0</td>\n",
       "      <td>56.5</td>\n",
       "      <td>1.5</td>\n",
       "      <td>1</td>\n",
       "    </tr>\n",
       "    <tr>\n",
       "      <th>2</th>\n",
       "      <td>A Class</td>\n",
       "      <td>2019.000000</td>\n",
       "      <td>17702</td>\n",
       "      <td>Automatic</td>\n",
       "      <td>0.0</td>\n",
       "      <td>Diesel</td>\n",
       "      <td>145.0</td>\n",
       "      <td>68.9</td>\n",
       "      <td>1.5</td>\n",
       "      <td>1</td>\n",
       "    </tr>\n",
       "    <tr>\n",
       "      <th>3</th>\n",
       "      <td>unknown</td>\n",
       "      <td>2017.333333</td>\n",
       "      <td>21749</td>\n",
       "      <td>Semi-Auto</td>\n",
       "      <td>27178.0</td>\n",
       "      <td>Diesel</td>\n",
       "      <td>160.0</td>\n",
       "      <td>51.4</td>\n",
       "      <td>2.0</td>\n",
       "      <td>1</td>\n",
       "    </tr>\n",
       "    <tr>\n",
       "      <th>4</th>\n",
       "      <td>E Class</td>\n",
       "      <td>2018.000000</td>\n",
       "      <td>35950</td>\n",
       "      <td>Automatic</td>\n",
       "      <td>0.0</td>\n",
       "      <td>Diesel</td>\n",
       "      <td>0.0</td>\n",
       "      <td>42.8</td>\n",
       "      <td>3.0</td>\n",
       "      <td>1</td>\n",
       "    </tr>\n",
       "  </tbody>\n",
       "</table>\n",
       "</div>"
      ],
      "text/plain": [
       "        model         year  price transmission  mileage fuelType    tax   mpg  \\\n",
       "0   GLC Class  2019.000000  45299    Semi-Auto   2792.0   Diesel  145.0  40.4   \n",
       "1     unknown  2018.000000  19099    Semi-Auto  12321.0   Petrol  145.0  56.5   \n",
       "2     A Class  2019.000000  17702    Automatic      0.0   Diesel  145.0  68.9   \n",
       "3     unknown  2017.333333  21749    Semi-Auto  27178.0   Diesel  160.0  51.4   \n",
       "4     E Class  2018.000000  35950    Automatic      0.0   Diesel    0.0  42.8   \n",
       "\n",
       "   engineSize  price_year_outlier  \n",
       "0         2.0                   1  \n",
       "1         1.5                   1  \n",
       "2         1.5                   1  \n",
       "3         2.0                   1  \n",
       "4         3.0                   1  "
      ]
     },
     "execution_count": 2,
     "metadata": {},
     "output_type": "execute_result"
    }
   ],
   "source": [
    "df = pd.read_csv('merc_train_2.csv')\n",
    "df.head()"
   ]
  },
  {
   "cell_type": "code",
   "execution_count": 3,
   "metadata": {
    "colab": {
     "base_uri": "https://localhost:8080/",
     "height": 300
    },
    "id": "_etzm7XekDmh",
    "outputId": "31083c9c-f3a3-4f5b-b130-57f15262fc75"
   },
   "outputs": [
    {
     "data": {
      "text/html": [
       "<div>\n",
       "<style scoped>\n",
       "    .dataframe tbody tr th:only-of-type {\n",
       "        vertical-align: middle;\n",
       "    }\n",
       "\n",
       "    .dataframe tbody tr th {\n",
       "        vertical-align: top;\n",
       "    }\n",
       "\n",
       "    .dataframe thead th {\n",
       "        text-align: right;\n",
       "    }\n",
       "</style>\n",
       "<table border=\"1\" class=\"dataframe\">\n",
       "  <thead>\n",
       "    <tr style=\"text-align: right;\">\n",
       "      <th></th>\n",
       "      <th>price</th>\n",
       "      <th>mileage</th>\n",
       "      <th>tax</th>\n",
       "      <th>mpg</th>\n",
       "    </tr>\n",
       "  </thead>\n",
       "  <tbody>\n",
       "    <tr>\n",
       "      <th>count</th>\n",
       "      <td>9877.000000</td>\n",
       "      <td>9877.000000</td>\n",
       "      <td>9877.000000</td>\n",
       "      <td>9877.000000</td>\n",
       "    </tr>\n",
       "    <tr>\n",
       "      <th>mean</th>\n",
       "      <td>23971.053255</td>\n",
       "      <td>15402.311127</td>\n",
       "      <td>91.363268</td>\n",
       "      <td>55.926223</td>\n",
       "    </tr>\n",
       "    <tr>\n",
       "      <th>std</th>\n",
       "      <td>9694.746739</td>\n",
       "      <td>19568.899969</td>\n",
       "      <td>75.595294</td>\n",
       "      <td>9.041756</td>\n",
       "    </tr>\n",
       "    <tr>\n",
       "      <th>min</th>\n",
       "      <td>1350.000000</td>\n",
       "      <td>0.000000</td>\n",
       "      <td>0.000000</td>\n",
       "      <td>32.100000</td>\n",
       "    </tr>\n",
       "    <tr>\n",
       "      <th>25%</th>\n",
       "      <td>17399.000000</td>\n",
       "      <td>0.000000</td>\n",
       "      <td>0.000000</td>\n",
       "      <td>51.400000</td>\n",
       "    </tr>\n",
       "    <tr>\n",
       "      <th>50%</th>\n",
       "      <td>22299.000000</td>\n",
       "      <td>8290.000000</td>\n",
       "      <td>145.000000</td>\n",
       "      <td>56.500000</td>\n",
       "    </tr>\n",
       "    <tr>\n",
       "      <th>75%</th>\n",
       "      <td>28480.000000</td>\n",
       "      <td>24164.000000</td>\n",
       "      <td>145.000000</td>\n",
       "      <td>61.400000</td>\n",
       "    </tr>\n",
       "    <tr>\n",
       "      <th>max</th>\n",
       "      <td>134219.000000</td>\n",
       "      <td>166086.000000</td>\n",
       "      <td>580.000000</td>\n",
       "      <td>78.500000</td>\n",
       "    </tr>\n",
       "  </tbody>\n",
       "</table>\n",
       "</div>"
      ],
      "text/plain": [
       "               price        mileage          tax          mpg\n",
       "count    9877.000000    9877.000000  9877.000000  9877.000000\n",
       "mean    23971.053255   15402.311127    91.363268    55.926223\n",
       "std      9694.746739   19568.899969    75.595294     9.041756\n",
       "min      1350.000000       0.000000     0.000000    32.100000\n",
       "25%     17399.000000       0.000000     0.000000    51.400000\n",
       "50%     22299.000000    8290.000000   145.000000    56.500000\n",
       "75%     28480.000000   24164.000000   145.000000    61.400000\n",
       "max    134219.000000  166086.000000   580.000000    78.500000"
      ]
     },
     "execution_count": 3,
     "metadata": {},
     "output_type": "execute_result"
    }
   ],
   "source": [
    "df_1 = df[['price', 'mileage', 'tax', 'mpg']]\n",
    "df_1.describe()"
   ]
  },
  {
   "cell_type": "code",
   "execution_count": 4,
   "metadata": {
    "id": "ahAUp49kkSSC"
   },
   "outputs": [],
   "source": [
    "from sklearn.preprocessing import StandardScaler\n",
    "\n",
    "scaler = StandardScaler()"
   ]
  },
  {
   "cell_type": "code",
   "execution_count": 5,
   "metadata": {
    "colab": {
     "base_uri": "https://localhost:8080/"
    },
    "id": "CHRhBHDBk_u0",
    "outputId": "b23e9881-9703-45df-d072-71cba9062d53"
   },
   "outputs": [
    {
     "data": {
      "text/plain": [
       "array([[-0.64443835,  0.70956067, -1.71725588],\n",
       "       [-0.15746757,  0.70956067,  0.06346184],\n",
       "       [-0.78712094,  0.70956067,  1.43494631],\n",
       "       ...,\n",
       "       [-0.78712094, -0.94406513,  1.08101483],\n",
       "       [-0.78712094,  0.70956067,  1.43494631],\n",
       "       [-0.71051592,  0.70956067, -1.96058377]])"
      ]
     },
     "execution_count": 5,
     "metadata": {},
     "output_type": "execute_result"
    }
   ],
   "source": [
    "X_train = df[['mileage', 'tax', 'mpg']]\n",
    "y_train = df['price']\n",
    "\n",
    "X_train_s = scaler.fit_transform(X_train)\n",
    "X_train_s"
   ]
  },
  {
   "cell_type": "code",
   "execution_count": 6,
   "metadata": {
    "colab": {
     "base_uri": "https://localhost:8080/",
     "height": 300
    },
    "id": "SqY-Qqm3lkw8",
    "outputId": "af5fc35b-ffe0-4594-e8ce-1ba330e9740b"
   },
   "outputs": [
    {
     "data": {
      "text/html": [
       "<div>\n",
       "<style scoped>\n",
       "    .dataframe tbody tr th:only-of-type {\n",
       "        vertical-align: middle;\n",
       "    }\n",
       "\n",
       "    .dataframe tbody tr th {\n",
       "        vertical-align: top;\n",
       "    }\n",
       "\n",
       "    .dataframe thead th {\n",
       "        text-align: right;\n",
       "    }\n",
       "</style>\n",
       "<table border=\"1\" class=\"dataframe\">\n",
       "  <thead>\n",
       "    <tr style=\"text-align: right;\">\n",
       "      <th></th>\n",
       "      <th>mileage</th>\n",
       "      <th>tax</th>\n",
       "      <th>mpg</th>\n",
       "    </tr>\n",
       "  </thead>\n",
       "  <tbody>\n",
       "    <tr>\n",
       "      <th>count</th>\n",
       "      <td>9.877000e+03</td>\n",
       "      <td>9.877000e+03</td>\n",
       "      <td>9.877000e+03</td>\n",
       "    </tr>\n",
       "    <tr>\n",
       "      <th>mean</th>\n",
       "      <td>1.510722e-17</td>\n",
       "      <td>2.230113e-17</td>\n",
       "      <td>-3.028637e-16</td>\n",
       "    </tr>\n",
       "    <tr>\n",
       "      <th>std</th>\n",
       "      <td>1.000051e+00</td>\n",
       "      <td>1.000051e+00</td>\n",
       "      <td>1.000051e+00</td>\n",
       "    </tr>\n",
       "    <tr>\n",
       "      <th>min</th>\n",
       "      <td>-7.871209e-01</td>\n",
       "      <td>-1.208645e+00</td>\n",
       "      <td>-2.635266e+00</td>\n",
       "    </tr>\n",
       "    <tr>\n",
       "      <th>25%</th>\n",
       "      <td>-7.871209e-01</td>\n",
       "      <td>-1.208645e+00</td>\n",
       "      <td>-5.006164e-01</td>\n",
       "    </tr>\n",
       "    <tr>\n",
       "      <th>50%</th>\n",
       "      <td>-3.634681e-01</td>\n",
       "      <td>7.095607e-01</td>\n",
       "      <td>6.346184e-02</td>\n",
       "    </tr>\n",
       "    <tr>\n",
       "      <th>75%</th>\n",
       "      <td>4.477580e-01</td>\n",
       "      <td>7.095607e-01</td>\n",
       "      <td>6.054194e-01</td>\n",
       "    </tr>\n",
       "    <tr>\n",
       "      <th>max</th>\n",
       "      <td>7.700551e+00</td>\n",
       "      <td>6.464178e+00</td>\n",
       "      <td>2.496741e+00</td>\n",
       "    </tr>\n",
       "  </tbody>\n",
       "</table>\n",
       "</div>"
      ],
      "text/plain": [
       "            mileage           tax           mpg\n",
       "count  9.877000e+03  9.877000e+03  9.877000e+03\n",
       "mean   1.510722e-17  2.230113e-17 -3.028637e-16\n",
       "std    1.000051e+00  1.000051e+00  1.000051e+00\n",
       "min   -7.871209e-01 -1.208645e+00 -2.635266e+00\n",
       "25%   -7.871209e-01 -1.208645e+00 -5.006164e-01\n",
       "50%   -3.634681e-01  7.095607e-01  6.346184e-02\n",
       "75%    4.477580e-01  7.095607e-01  6.054194e-01\n",
       "max    7.700551e+00  6.464178e+00  2.496741e+00"
      ]
     },
     "execution_count": 6,
     "metadata": {},
     "output_type": "execute_result"
    }
   ],
   "source": [
    "df_X_s = pd.DataFrame(X_train_s, columns=X_train.columns)\n",
    "df_X_s.describe()"
   ]
  },
  {
   "cell_type": "code",
   "execution_count": 7,
   "metadata": {
    "id": "Z6W_0Xdfly95"
   },
   "outputs": [],
   "source": [
    "from sklearn.linear_model import LinearRegression\n",
    "\n",
    "lr1 = LinearRegression()"
   ]
  },
  {
   "cell_type": "code",
   "execution_count": 8,
   "metadata": {
    "colab": {
     "base_uri": "https://localhost:8080/"
    },
    "id": "UQlYBhAomJ_y",
    "outputId": "845d0f90-4c5e-4d60-c5a0-846ffccd84de"
   },
   "outputs": [
    {
     "name": "stdout",
     "output_type": "stream",
     "text": [
      "1.89 ms ± 35.9 μs per loop (mean ± std. dev. of 7 runs, 1,000 loops each)\n"
     ]
    }
   ],
   "source": [
    "%%timeit\n",
    "lr1.fit(X_train, y_train)"
   ]
  },
  {
   "cell_type": "code",
   "execution_count": 9,
   "metadata": {
    "colab": {
     "base_uri": "https://localhost:8080/"
    },
    "id": "196DMuu8mOqb",
    "outputId": "833e4e1a-a07e-4773-ea66-ff96589b104a"
   },
   "outputs": [
    {
     "data": {
      "text/plain": [
       "63325703.902901486"
      ]
     },
     "execution_count": 9,
     "metadata": {},
     "output_type": "execute_result"
    }
   ],
   "source": [
    "from sklearn.metrics import mean_squared_error\n",
    "\n",
    "y_pred = lr1.predict(X_train)\n",
    "mean_squared_error(y_train, y_pred)"
   ]
  },
  {
   "cell_type": "code",
   "execution_count": 10,
   "metadata": {
    "id": "5L6bxpj3mogg"
   },
   "outputs": [],
   "source": [
    "lr2 = LinearRegression()"
   ]
  },
  {
   "cell_type": "code",
   "execution_count": 11,
   "metadata": {
    "colab": {
     "base_uri": "https://localhost:8080/"
    },
    "id": "6Gp65UVvm6Cb",
    "outputId": "86d95a70-74f9-4224-8780-8a59423ae3bc"
   },
   "outputs": [
    {
     "name": "stdout",
     "output_type": "stream",
     "text": [
      "1.87 ms ± 44.5 μs per loop (mean ± std. dev. of 7 runs, 100 loops each)\n"
     ]
    }
   ],
   "source": [
    "%%timeit\n",
    "lr2.fit(df_X_s, y_train)"
   ]
  },
  {
   "cell_type": "code",
   "execution_count": 12,
   "metadata": {
    "colab": {
     "base_uri": "https://localhost:8080/"
    },
    "id": "r87wxnFwm_Wb",
    "outputId": "01b20b48-49f6-4044-96a5-450a195d806d"
   },
   "outputs": [
    {
     "data": {
      "text/plain": [
       "63325703.9029015"
      ]
     },
     "execution_count": 12,
     "metadata": {},
     "output_type": "execute_result"
    }
   ],
   "source": [
    "y_pred = lr2.predict(df_X_s)\n",
    "mean_squared_error(y_train, y_pred)"
   ]
  },
  {
   "cell_type": "code",
   "execution_count": 13,
   "metadata": {
    "colab": {
     "base_uri": "https://localhost:8080/"
    },
    "id": "FTAf9nVTnWoK",
    "outputId": "463bbfe2-5108-48ec-c7b4-aa2e985bf6d4"
   },
   "outputs": [
    {
     "name": "stdout",
     "output_type": "stream",
     "text": [
      "mileage: -3495.063559800523\n",
      "tax: 594.5964174187611\n",
      "mpg: -3551.151286845901\n",
      "Intercept: 23971.053255036953\n"
     ]
    }
   ],
   "source": [
    "for feature, coef in zip(X_train.columns, lr2.coef_):\n",
    "  print(f'{feature}: {coef}')\n",
    "print(f'Intercept: {lr2.intercept_}')"
   ]
  },
  {
   "cell_type": "code",
   "execution_count": 14,
   "metadata": {
    "id": "XD2oe5EvnxXu"
   },
   "outputs": [],
   "source": [
    "from sklearn.preprocessing import MinMaxScaler\n",
    "\n",
    "mmscaler = MinMaxScaler()\n",
    "\n",
    "X_train_mm = mmscaler.fit_transform(X_train)\n",
    "\n",
    "lr3 = LinearRegression()"
   ]
  },
  {
   "cell_type": "code",
   "execution_count": 15,
   "metadata": {
    "colab": {
     "base_uri": "https://localhost:8080/"
    },
    "id": "0VD4M3etpkf5",
    "outputId": "1252bfcf-6e2c-46ac-d095-5c7f1ee7296d"
   },
   "outputs": [
    {
     "name": "stdout",
     "output_type": "stream",
     "text": [
      "1.01 ms ± 24.5 μs per loop (mean ± std. dev. of 7 runs, 1,000 loops each)\n"
     ]
    }
   ],
   "source": [
    "%%timeit\n",
    "lr3.fit(X_train_mm, y_train)"
   ]
  },
  {
   "cell_type": "code",
   "execution_count": 16,
   "metadata": {
    "colab": {
     "base_uri": "https://localhost:8080/"
    },
    "id": "jkkUZBf2qFa9",
    "outputId": "8e75d256-543a-4635-f486-5b30b430483b"
   },
   "outputs": [
    {
     "data": {
      "text/plain": [
       "63325703.9029015"
      ]
     },
     "execution_count": 16,
     "metadata": {},
     "output_type": "execute_result"
    }
   ],
   "source": [
    "y_pred = lr3.predict(X_train_mm)\n",
    "mean_squared_error(y_train, y_pred)"
   ]
  },
  {
   "cell_type": "code",
   "execution_count": 17,
   "metadata": {
    "colab": {
     "base_uri": "https://localhost:8080/",
     "height": 282
    },
    "id": "wPnR8iSbqP38",
    "outputId": "b8a05ff1-5190-44d0-df52-283d90acb0ba"
   },
   "outputs": [
    {
     "data": {
      "text/plain": [
       "<Axes: >"
      ]
     },
     "execution_count": 17,
     "metadata": {},
     "output_type": "execute_result"
    },
    {
     "data": {
      "image/png": "[encoded data removed]",
      "text/plain": [
       "<Figure size 640x480 with 1 Axes>"
      ]
     },
     "metadata": {},
     "output_type": "display_data"
    }
   ],
   "source": [
    "X_train.plot(kind='box')"
   ]
  },
  {
   "cell_type": "code",
   "execution_count": 18,
   "metadata": {
    "colab": {
     "base_uri": "https://localhost:8080/",
     "height": 282
    },
    "id": "-F36F_eprecf",
    "outputId": "d6e1b5b5-451e-41e8-e83d-382d11f809b0"
   },
   "outputs": [
    {
     "data": {
      "text/plain": [
       "<Axes: >"
      ]
     },
     "execution_count": 18,
     "metadata": {},
     "output_type": "execute_result"
    },
    {
     "data": {
      "image/png": "[encoded data removed]",
      "text/plain": [
       "<Figure size 640x480 with 1 Axes>"
      ]
     },
     "metadata": {},
     "output_type": "display_data"
    }
   ],
   "source": [
    "df_X_s.plot(kind='box')"
   ]
  },
  {
   "cell_type": "code",
   "execution_count": null,
   "metadata": {
    "id": "uoJbX9NZrxGG"
   },
   "outputs": [],
   "source": []
  }
 ],
 "metadata": {
  "colab": {
   "provenance": []
  },
  "kernelspec": {
   "display_name": "Python 3 (ipykernel)",
   "language": "python",
   "name": "python3"
  },
  "language_info": {
   "codemirror_mode": {
    "name": "ipython",
    "version": 3
   },
   "file_extension": ".py",
   "mimetype": "text/x-python",
   "name": "python",
   "nbconvert_exporter": "python",
   "pygments_lexer": "ipython3",
   "version": "3.12.4"
  }
 },
 "nbformat": 4,
 "nbformat_minor": 4
}
